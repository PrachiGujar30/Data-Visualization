{
  "nbformat": 4,
  "nbformat_minor": 0,
  "metadata": {
    "colab": {
      "provenance": []
    },
    "kernelspec": {
      "name": "python3",
      "display_name": "Python 3"
    },
    "language_info": {
      "name": "python"
    }
  },
  "cells": [
    {
      "cell_type": "code",
      "execution_count": 1,
      "metadata": {
        "colab": {
          "base_uri": "https://localhost:8080/"
        },
        "id": "wAQ-CmE0SRPu",
        "outputId": "3c9d53f8-ee93-4a9b-ee89-20db1bf45317"
      },
      "outputs": [
        {
          "output_type": "stream",
          "name": "stdout",
          "text": [
            "0     v\n",
            "1     i\n",
            "2     s\n",
            "3     u\n",
            "4     a\n",
            "5     l\n",
            "6     i\n",
            "7     j\n",
            "8     k\n",
            "9     l\n",
            "10    m\n",
            "dtype: object\n"
          ]
        }
      ],
      "source": [
        "#SERIES DATAFRAME\n",
        "import pandas as pd\n",
        "import numpy as np\n",
        "data = np.array(['v','i','s','u','a','l','i','j','k','l','m'])\n",
        "ser = pd.Series(data)\n",
        "print(ser)"
      ]
    },
    {
      "cell_type": "code",
      "source": [
        "import pandas as pd\n",
        "list = ['v','i','s','u','a','l','i']\n",
        "ser=pd.Series(list)\n",
        "print(ser)"
      ],
      "metadata": {
        "colab": {
          "base_uri": "https://localhost:8080/"
        },
        "id": "8m7FS46eU102",
        "outputId": "9d7b404d-f190-47c3-a0f7-b9fbd472b508"
      },
      "execution_count": null,
      "outputs": [
        {
          "output_type": "stream",
          "name": "stdout",
          "text": [
            "0    v\n",
            "1    i\n",
            "2    s\n",
            "3    u\n",
            "4    a\n",
            "5    l\n",
            "6    i\n",
            "dtype: object\n"
          ]
        }
      ]
    },
    {
      "cell_type": "code",
      "source": [
        "import pandas as pd\n",
        "import numpy as np\n",
        "data = np.array(['v','i','s','u','a','l','i'])\n",
        "ser = pd.Series(data)\n",
        "print(ser[:4])"
      ],
      "metadata": {
        "colab": {
          "base_uri": "https://localhost:8080/"
        },
        "id": "8ZkuVazLVZZ5",
        "outputId": "8b72e67e-3a4c-4258-ddaa-87c85fa0170b"
      },
      "execution_count": null,
      "outputs": [
        {
          "output_type": "stream",
          "name": "stdout",
          "text": [
            "0    v\n",
            "1    i\n",
            "2    s\n",
            "3    u\n",
            "dtype: object\n"
          ]
        }
      ]
    },
    {
      "cell_type": "code",
      "source": [
        "import pandas as pd\n",
        "import numpy as np\n",
        "data = np.array(['v','i','s','u','a','l','i'])\n",
        "ser = pd.Series(data)\n",
        "ser = pd.Series(data, index=[101,201,301,401,501,601,701])\n",
        "print(ser[301])"
      ],
      "metadata": {
        "colab": {
          "base_uri": "https://localhost:8080/"
        },
        "id": "qvkRXn0wWxPr",
        "outputId": "0614fe72-1125-47d5-bebf-7ad1db219c86"
      },
      "execution_count": 2,
      "outputs": [
        {
          "output_type": "stream",
          "name": "stdout",
          "text": [
            "s\n"
          ]
        }
      ]
    },
    {
      "cell_type": "code",
      "source": [
        "import pandas as pd\n",
        "df=pd.read_excel(\"/content/Book1.xlsx\")\n",
        "ser=pd.Series(df['RN'])\n",
        "data = ser.head(12).sort_values()\n",
        "data"
      ],
      "metadata": {
        "colab": {
          "base_uri": "https://localhost:8080/"
        },
        "id": "zCotz2IEXcOO",
        "outputId": "aafb13f1-a77d-4c94-f817-172fb6c8e9b5"
      },
      "execution_count": null,
      "outputs": [
        {
          "output_type": "execute_result",
          "data": {
            "text/plain": [
              "6     13\n",
              "1     17\n",
              "8     18\n",
              "10    19\n",
              "2     24\n",
              "3     30\n",
              "4     31\n",
              "9     39\n",
              "7     42\n",
              "0     45\n",
              "11    50\n",
              "5     56\n",
              "Name: RN, dtype: int64"
            ]
          },
          "metadata": {},
          "execution_count": 15
        }
      ]
    },
    {
      "cell_type": "code",
      "source": [
        "import pandas as pd\n",
        "df=pd.read_excel(\"/content/Book1.xlsx\")\n",
        "ser=pd.Series(df['Enrollment No.'])\n",
        "data = ser.head(12)\n",
        "data.iloc[6:9]"
      ],
      "metadata": {
        "colab": {
          "base_uri": "https://localhost:8080/"
        },
        "id": "6mO8JnOLd3ql",
        "outputId": "eb2c5c4d-7fc0-442e-fc51-e5bcb9dbf067"
      },
      "execution_count": null,
      "outputs": [
        {
          "output_type": "execute_result",
          "data": {
            "text/plain": [
              "6    2054491246007\n",
              "7    2054491246008\n",
              "8    2054491246009\n",
              "Name: Enrollment No., dtype: int64"
            ]
          },
          "metadata": {},
          "execution_count": 13
        }
      ]
    },
    {
      "cell_type": "code",
      "source": [
        "import pandas as pd\n",
        "df=pd.read_excel(\"/content/Book1.xlsx\")\n",
        "ser=pd.Series(df['Enrollment No.'])\n",
        "data = ser.count()\n",
        "data"
      ],
      "metadata": {
        "colab": {
          "base_uri": "https://localhost:8080/"
        },
        "id": "h5C0d-KyfHsW",
        "outputId": "59ca9277-a693-4084-aa08-37efc7266692"
      },
      "execution_count": null,
      "outputs": [
        {
          "output_type": "execute_result",
          "data": {
            "text/plain": [
              "67"
            ]
          },
          "metadata": {},
          "execution_count": 14
        }
      ]
    },
    {
      "cell_type": "code",
      "source": [
        "import pandas as pd\n",
        "df=pd.read_excel(\"/content/Book1.xlsx\")\n",
        "ser=pd.Series(df['Enrollment No.'])\n",
        "print(\"Size = \", df.size,\"\\n\")\n",
        "print(\"shape = \", df.shape,\"\\n\")\n",
        "print(\"data frame dimension =\",df.ndim, \"\\n\")\n",
        "print(\"series frame dimension =\",ser.ndim, \"\\n\")\n",
        "print(\"memory usage =\", df.memory_usage(),\"\\n\")"
      ],
      "metadata": {
        "colab": {
          "base_uri": "https://localhost:8080/"
        },
        "id": "Fs6I_Kz-fj2C",
        "outputId": "d7429161-566d-45ae-ac93-cfe82abaa8a5"
      },
      "execution_count": null,
      "outputs": [
        {
          "output_type": "stream",
          "name": "stdout",
          "text": [
            "Size =  804 \n",
            "\n",
            "shape =  (67, 12) \n",
            "\n",
            "data frame dimension = 2 \n",
            "\n",
            "series frame dimension = 1 \n",
            "\n",
            "memory usage = Index               128\n",
            "RN                  536\n",
            "Enrollment No.      536\n",
            "SAP ID              536\n",
            "Name of Student     536\n",
            "CA-I (10marks)      536\n",
            "CO3                 536\n",
            "CO1                 536\n",
            "CO2                 536\n",
            "Unnamed: 8          536\n",
            "Unnamed: 9          536\n",
            "Unnamed: 10         536\n",
            "Unnamed: 11         536\n",
            "dtype: int64 \n",
            "\n"
          ]
        }
      ]
    },
    {
      "cell_type": "code",
      "source": [
        "import pandas as pd\n",
        "df=pd.read_excel(\"/content/Book1.xlsx\")\n",
        "before=df.dtypes\n",
        "\n",
        "df[\"Enrollment No.\"] = df[\"Enrollment No.\"].astype(int)\n",
        "\n",
        "after = df.dtypes\n",
        "\n",
        "print(\"Before\\n\", before,\"\\n\")\n",
        "print(\"After\\n\", after,\"\\n\")\n"
      ],
      "metadata": {
        "colab": {
          "base_uri": "https://localhost:8080/"
        },
        "id": "giJld5ugPhP_",
        "outputId": "34f7e874-e9dc-465b-d7db-5bbd351bb0a6"
      },
      "execution_count": 7,
      "outputs": [
        {
          "output_type": "stream",
          "name": "stdout",
          "text": [
            "Before\n",
            " RN                   int64\n",
            "Enrollment No.       int64\n",
            "SAP ID               int64\n",
            "Name of Student     object\n",
            "CA-I (10marks)       int64\n",
            "CO3                  int64\n",
            "CO1                  int64\n",
            "CO2                  int64\n",
            "Unnamed: 8          object\n",
            "Unnamed: 9          object\n",
            "Unnamed: 10         object\n",
            "Unnamed: 11         object\n",
            "dtype: object \n",
            "\n",
            "After\n",
            " RN                   int64\n",
            "Enrollment No.       int64\n",
            "SAP ID               int64\n",
            "Name of Student     object\n",
            "CA-I (10marks)       int64\n",
            "CO3                  int64\n",
            "CO1                  int64\n",
            "CO2                  int64\n",
            "Unnamed: 8          object\n",
            "Unnamed: 9          object\n",
            "Unnamed: 10         object\n",
            "Unnamed: 11         object\n",
            "dtype: object \n",
            "\n"
          ]
        }
      ]
    },
    {
      "cell_type": "code",
      "source": [
        "ser=pd.Series(df[\"Enrollment No.\"], name=\"Enroll No.\")\n",
        "ser"
      ],
      "metadata": {
        "colab": {
          "base_uri": "https://localhost:8080/"
        },
        "id": "0bRYA8qSQ80H",
        "outputId": "352c16e6-206a-4843-e5dd-9619927ad272"
      },
      "execution_count": 9,
      "outputs": [
        {
          "output_type": "execute_result",
          "data": {
            "text/plain": [
              "0     2054491246001\n",
              "1     2054491246002\n",
              "2     2054491246003\n",
              "3     2054491246004\n",
              "4     2054491246005\n",
              "          ...      \n",
              "62    2154491246502\n",
              "63    2154491246503\n",
              "64    2154491246504\n",
              "65    2154491246505\n",
              "66    2154491246506\n",
              "Name: Enroll No., Length: 67, dtype: int64"
            ]
          },
          "metadata": {},
          "execution_count": 9
        }
      ]
    },
    {
      "cell_type": "code",
      "source": [
        "#TIME DELTA"
      ],
      "metadata": {
        "id": "gj9bx21VRX8B"
      },
      "execution_count": null,
      "outputs": []
    },
    {
      "cell_type": "code",
      "source": [
        "import pandas as pd\n",
        "print(pd.Timedelta('3 days 3 hours 30 minutes 15 seconds'))"
      ],
      "metadata": {
        "id": "N3r34C-fiPAT",
        "colab": {
          "base_uri": "https://localhost:8080/"
        },
        "outputId": "dd70a095-6393-498a-e5c7-c1b96b3d6bf6"
      },
      "execution_count": null,
      "outputs": [
        {
          "output_type": "stream",
          "name": "stdout",
          "text": [
            "3 days 03:30:15\n"
          ]
        }
      ]
    },
    {
      "cell_type": "code",
      "source": [
        "print(pd.Timedelta(3,unit=\"h\"))"
      ],
      "metadata": {
        "colab": {
          "base_uri": "https://localhost:8080/"
        },
        "id": "XfNWWjJuR7IQ",
        "outputId": "fde411ad-7edb-40d6-8ca7-ba3e659f9aef"
      },
      "execution_count": null,
      "outputs": [
        {
          "output_type": "stream",
          "name": "stdout",
          "text": [
            "0 days 03:00:00\n"
          ]
        }
      ]
    },
    {
      "cell_type": "code",
      "source": [
        "print(pd.Timedelta(days=3))"
      ],
      "metadata": {
        "colab": {
          "base_uri": "https://localhost:8080/"
        },
        "id": "l4JgPWTrSPKK",
        "outputId": "24958ed0-3b21-4054-c911-d08924203eb0"
      },
      "execution_count": null,
      "outputs": [
        {
          "output_type": "stream",
          "name": "stdout",
          "text": [
            "3 days 00:00:00\n"
          ]
        }
      ]
    },
    {
      "cell_type": "code",
      "source": [
        "import pandas as pd\n",
        "s=pd.Series(pd.date_range('2019-1-1', periods=3, freq=\"D\"))\n",
        "td=pd.Series([pd.Timedelta(days=i) for i in range(3)])\n",
        "df=pd.DataFrame(dict(A=s, B=td))\n",
        "print(df)"
      ],
      "metadata": {
        "colab": {
          "base_uri": "https://localhost:8080/"
        },
        "id": "8auy0mRzSZJl",
        "outputId": "2c1e20c2-dd6c-4fcd-af6d-a3582c45805d"
      },
      "execution_count": null,
      "outputs": [
        {
          "output_type": "stream",
          "name": "stdout",
          "text": [
            "           A      B\n",
            "0 2019-01-01 0 days\n",
            "1 2019-01-02 1 days\n",
            "2 2019-01-03 2 days\n"
          ]
        }
      ]
    },
    {
      "cell_type": "code",
      "source": [
        "import pandas as pd\n",
        "s=pd.Series(pd.date_range('2019-1-1', periods=3, freq=\"D\"))\n",
        "td=pd.Series([pd.Timedelta(days=i) for i in range(3)])\n",
        "df=pd.DataFrame(dict(A=s, B=td))\n",
        "df[\"C\"]=df[\"A\"] + df[\"B\"]\n",
        "print(df)"
      ],
      "metadata": {
        "colab": {
          "base_uri": "https://localhost:8080/"
        },
        "id": "ASMlqXmMUE6W",
        "outputId": "273a5111-d764-4185-87d7-9bce4292e42e"
      },
      "execution_count": null,
      "outputs": [
        {
          "output_type": "stream",
          "name": "stdout",
          "text": [
            "           A      B          C\n",
            "0 2019-01-01 0 days 2019-01-01\n",
            "1 2019-01-02 1 days 2019-01-03\n",
            "2 2019-01-03 2 days 2019-01-05\n"
          ]
        }
      ]
    }
  ]
}